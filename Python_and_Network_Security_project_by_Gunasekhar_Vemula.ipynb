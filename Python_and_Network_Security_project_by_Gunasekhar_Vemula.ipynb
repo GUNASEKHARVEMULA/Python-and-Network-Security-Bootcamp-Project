{
  "nbformat": 4,
  "nbformat_minor": 0,
  "metadata": {
    "colab": {
      "name": "Python and Network Security project by Gunasekhar Vemula.ipynb",
      "provenance": [],
      "collapsed_sections": []
    },
    "kernelspec": {
      "name": "python3",
      "display_name": "Python 3"
    },
    "language_info": {
      "name": "python"
    }
  },
  "cells": [
    {
      "cell_type": "markdown",
      "metadata": {
        "id": "HvV0n17Szvm3"
      },
      "source": [
        "1. Write a Program in python to generate MD5 of a string data."
      ]
    },
    {
      "cell_type": "code",
      "metadata": {
        "colab": {
          "base_uri": "https://localhost:8080/"
        },
        "id": "YABCSazReK1D",
        "outputId": "29583804-5eb6-436c-fe15-2bc4ad539519"
      },
      "source": [
        "import hashlib\n",
        "def md5_encrypter():\n",
        "   text= input('Enter the string You would like to convert to md5: ')\n",
        "   textUtf8= text.encode(\"utf-8\")\n",
        "   hash = hashlib.md5(textUtf8)\n",
        "   hexa = hash.hexdigest()\n",
        "\n",
        "   print(hexa)\n",
        "   return\n",
        "\n",
        "md5_encrypter()"
      ],
      "execution_count": 79,
      "outputs": [
        {
          "output_type": "stream",
          "text": [
            "Enter the string You would like to convert to md5: GUNASEKHAR VEMULA\n",
            "9c8c95b0f097603ccd4798a4c1c31ac9\n"
          ],
          "name": "stdout"
        }
      ]
    },
    {
      "cell_type": "markdown",
      "metadata": {
        "id": "Usx6tgU2z8-f"
      },
      "source": [
        "2. Write a program in python to generate hashes of string data using 3 algorithms from hashlib."
      ]
    },
    {
      "cell_type": "code",
      "metadata": {
        "colab": {
          "base_uri": "https://localhost:8080/"
        },
        "id": "nFVAIFN1hsQO",
        "outputId": "4639c574-3512-4688-9628-1bcd444213af"
      },
      "source": [
        "import hashlib\n",
        "def md5_encrypter():\n",
        "   text= input('Enter the string You would like to convert to md5: ')\n",
        "   textUtf8= text.encode(\"utf-8\")\n",
        "   hash = hashlib.md5(textUtf8)\n",
        "   hexa = hash.hexdigest()\n",
        "   print(hexa)\n",
        "   return\n",
        "\n",
        "def sha1_encrypter():\n",
        "    text= input('Enter the string You would like to convert to sha1: ')\n",
        "    textUtf8= text.encode(\"utf-8\")\n",
        "    hash = hashlib.sha1(textUtf8)\n",
        "    hexa = hash.hexdigest()\n",
        "    print(hexa)\n",
        "    return\n",
        "\n",
        "def sha256_encrypter():\n",
        "    text= input('Enter the string You would like to convert to sha256: ')\n",
        "    textUtf8= text.encode(\"utf-8\")\n",
        "    hash = hashlib.sha256(textUtf8)\n",
        "    hexa = hash.hexdigest()\n",
        "    print(hexa)\n",
        "    return\n",
        "\n",
        "md5_encrypter()\n",
        "print()\n",
        "sha1_encrypter()\n",
        "print()\n",
        "sha256_encrypter()\n"
      ],
      "execution_count": 80,
      "outputs": [
        {
          "output_type": "stream",
          "text": [
            "Enter the string You would like to convert to md5: GUNASEKHAR VEMULA\n",
            "9c8c95b0f097603ccd4798a4c1c31ac9\n",
            "\n",
            "Enter the string You would like to convert to sha1: GUNASEKHAR VEMULA\n",
            "6e9c05949024bcd4e6bc99db95c71eb3a021dfc9\n",
            "\n",
            "Enter the string You would like to convert to sha256: GUNASEKHAR VEMULA\n",
            "b16c536619204e4a7a7147204fb6636713763e5eecdcd472bd62f3f838f6e025\n"
          ],
          "name": "stdout"
        }
      ]
    },
    {
      "cell_type": "markdown",
      "metadata": {
        "id": "OcJjQAgO1ruo"
      },
      "source": [
        "3. Write a program to add Salting and Iterations to your hashes"
      ]
    },
    {
      "cell_type": "code",
      "metadata": {
        "colab": {
          "base_uri": "https://localhost:8080/"
        },
        "id": "ojm_5_OAqXL_",
        "outputId": "d965b0c6-1c88-4817-e2f6-c3268a019aba"
      },
      "source": [
        "import os\n",
        "import hashlib\n",
        "\n",
        "password = input(\"Enter the string to apply salting and iterations: \")\n",
        "salt = os.urandom(32)\n",
        "key = hashlib.pbkdf2_hmac('sha256', password.encode('utf-8'), salt, 100000)\n",
        "\n",
        "\n",
        "storage = salt + key \n",
        "\n",
        "\n",
        "salt_from_storage = storage[:32]\n",
        "key_from_storage = storage[32:]\n",
        "print(key_from_storage)\n",
        "print(salt_from_storage)"
      ],
      "execution_count": 81,
      "outputs": [
        {
          "output_type": "stream",
          "text": [
            "Enter the string to apply salting and iterations: GUNASEKHAR VEMULA\n",
            "b'i\\x8e\\x9fc\\xce-\\x8e\\x1e\\x8f\\xce\\xe9\\xd2P`\\xd4,\\xd1\\xf2\\x1a\\x1e`\\xaa\\xfdL\\xe3\\xd1|\\x8fi\\xfb\\xf4\\xb2'\n",
            "b\"\\x99q\\x8f\\x80\\\\\\x17\\x9a\\xc2\\xf2S\\xd5\\x8d\\t\\xfaa\\x888\\xfb\\xfc`)'[W\\xb8p8\\xf3\\xf2\\x1c\\x001\"\n"
          ],
          "name": "stdout"
        }
      ]
    }
  ]
}